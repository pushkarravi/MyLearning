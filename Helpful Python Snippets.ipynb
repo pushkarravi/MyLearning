{
 "cells": [
  {
   "cell_type": "markdown",
   "metadata": {},
   "source": [
    "# <font color = 'red'> Helpful Python Snippets </font>"
   ]
  },
  {
   "cell_type": "markdown",
   "metadata": {},
   "source": [
    "## DataFrame Info"
   ]
  },
  {
   "cell_type": "markdown",
   "metadata": {},
   "source": [
    "info() method is used to get a summary of the DataFrame. It is useful when doing exploratory data analysis (EDA) of the data"
   ]
  },
  {
   "cell_type": "code",
   "execution_count": null,
   "metadata": {},
   "outputs": [],
   "source": [
    "df.info()"
   ]
  },
  {
   "cell_type": "markdown",
   "metadata": {},
   "source": [
    "## Conditional Parameters"
   ]
  },
  {
   "cell_type": "markdown",
   "metadata": {},
   "source": [
    "df[condition] method is used to enforce some condition in the form of relational operators to a particular column in the DataFrame."
   ]
  },
  {
   "cell_type": "code",
   "execution_count": null,
   "metadata": {},
   "outputs": [],
   "source": [
    "df[df['electrical_capacity'] >= 50].head(5)\n",
    "\n",
    "# enforcing logical operator on multiple columns\n",
    "df[(df['energy_2'] == 'solar') | (df['energy_3'] == 'Sewage and landfill gas')].head()"
   ]
  },
  {
   "cell_type": "markdown",
   "metadata": {},
   "source": [
    "## Matching Column Value"
   ]
  },
  {
   "cell_type": "markdown",
   "metadata": {},
   "source": [
    "df[‘column’].isin() is used to check and display only those rows whose column value matches with the parameter specified in the method."
   ]
  },
  {
   "cell_type": "code",
   "execution_count": null,
   "metadata": {},
   "outputs": [],
   "source": [
    "df[df['technology'].isin(['Hydro'])].head()"
   ]
  },
  {
   "cell_type": "markdown",
   "metadata": {},
   "source": [
    "## DataFrame Column Rename"
   ]
  },
  {
   "cell_type": "markdown",
   "metadata": {},
   "source": [
    "rename() method is used to change the name of the columns in key : value format where key is the old column name and value is the new column name."
   ]
  },
  {
   "cell_type": "code",
   "execution_count": null,
   "metadata": {},
   "outputs": [],
   "source": [
    "df.rename(columns={\n",
    "        'energy_source_level_1': 'energy_1', \n",
    "        'energy_source_level_2': 'energy_2',\n",
    "        'energy_source_level_3': 'energy_3'\n",
    "    }, inplace=True)\n",
    "df.columns"
   ]
  },
  {
   "cell_type": "markdown",
   "metadata": {},
   "source": [
    "## NaN data in Columns"
   ]
  },
  {
   "cell_type": "markdown",
   "metadata": {},
   "source": [
    "sum() method of the DataFrame returned by isnull() method will give a series containing data about count of NaN in each column"
   ]
  },
  {
   "cell_type": "code",
   "execution_count": null,
   "metadata": {},
   "outputs": [],
   "source": [
    "df.isnull().sum()"
   ]
  },
  {
   "cell_type": "markdown",
   "metadata": {},
   "source": [
    "## Dropping Null value in DataFrame"
   ]
  },
  {
   "cell_type": "markdown",
   "metadata": {},
   "source": [
    "dropna() method will delete any row with at least a single null value but it will return a new DataFrame without altering the original one. \n",
    "\n",
    "You can also drop columns with null values by setting axis=1 as parameter."
   ]
  },
  {
   "cell_type": "code",
   "execution_count": null,
   "metadata": {},
   "outputs": [],
   "source": [
    "df.dropna()       # --- Deletes the ROW\n",
    "\n",
    "df.dropna(axis=1) # --- Deletes the COLUMN"
   ]
  },
  {
   "cell_type": "markdown",
   "metadata": {},
   "source": [
    "## Statistical Summary of DataFrame"
   ]
  },
  {
   "cell_type": "markdown",
   "metadata": {},
   "source": [
    "describe() method computes a summary of statistics like count, mean, standard deviation, min, max and quartile values pertaining to the DataFrame columns."
   ]
  },
  {
   "cell_type": "code",
   "execution_count": null,
   "metadata": {},
   "outputs": [],
   "source": [
    "df.describe()\n",
    "\n",
    "df[‘column’].describe() # --- summary of statistics for a particular column"
   ]
  },
  {
   "cell_type": "markdown",
   "metadata": {},
   "source": [
    "## All unique\n",
    "The following method checks whether the given list has duplicate elements. It uses the property of set() which removes duplicate elements from the list."
   ]
  },
  {
   "cell_type": "code",
   "execution_count": null,
   "metadata": {},
   "outputs": [],
   "source": [
    "def all_unique(lst):\n",
    "    return len(lst) == len(set(lst))\n",
    "\n",
    "\n",
    "x = [1,1,2,2,3,2,3,4,5,6]\n",
    "y = [1,2,3,4,5]\n",
    "all_unique(x) # False\n",
    "all_unique(y) # True"
   ]
  },
  {
   "cell_type": "markdown",
   "metadata": {},
   "source": [
    "## Anagrams\n",
    "This method can be used to check if two strings are anagrams. An anagram is a word or phrase formed by rearranging the letters of a different word or phrase, typically using all the original letters exactly once."
   ]
  },
  {
   "cell_type": "code",
   "execution_count": null,
   "metadata": {},
   "outputs": [],
   "source": [
    "from collections import Counter\n",
    "\n",
    "def anagram(first, second):\n",
    "    return Counter(first) == Counter(second)\n",
    "\n",
    "\n",
    "anagram(\"abcd3\", \"3acdb\") # True"
   ]
  },
  {
   "cell_type": "markdown",
   "metadata": {},
   "source": [
    "## Memory\n",
    "This snippet can be used to check the memory usage of an object."
   ]
  },
  {
   "cell_type": "code",
   "execution_count": null,
   "metadata": {},
   "outputs": [],
   "source": [
    "import sys \n",
    "\n",
    "variable = 30 \n",
    "print(sys.getsizeof(variable)) # 24"
   ]
  },
  {
   "cell_type": "markdown",
   "metadata": {},
   "source": [
    "## Byte size\n",
    "This method returns the length of a string in bytes."
   ]
  },
  {
   "cell_type": "code",
   "execution_count": null,
   "metadata": {},
   "outputs": [],
   "source": [
    "def byte_size(string):\n",
    "    return(len(string.encode('utf-8')))\n",
    "    \n",
    "    \n",
    "byte_size('😀') # 4\n",
    "byte_size('Hello World') # 11  "
   ]
  },
  {
   "cell_type": "markdown",
   "metadata": {},
   "source": [
    "## Print a string N times\n",
    "This snippet can be used to print a string n times without having to use loops to do it."
   ]
  },
  {
   "cell_type": "code",
   "execution_count": null,
   "metadata": {},
   "outputs": [],
   "source": [
    "n = 2; \n",
    "s =\"Programming\"; \n",
    "\n",
    "print(s * n); # ProgrammingProgramming"
   ]
  },
  {
   "cell_type": "markdown",
   "metadata": {},
   "source": [
    "## Capitalize first letters\n",
    "This snippet simply uses the method title() to capitalize first letters of every word in a string."
   ]
  },
  {
   "cell_type": "code",
   "execution_count": null,
   "metadata": {},
   "outputs": [],
   "source": [
    "s = \"programming is awesome\"\n",
    "\n",
    "print(s.title()) # Programming Is Awesome"
   ]
  },
  {
   "cell_type": "markdown",
   "metadata": {},
   "source": [
    "## Chunk\n",
    "This method chunks a list into smaller lists of a specified size."
   ]
  },
  {
   "cell_type": "code",
   "execution_count": null,
   "metadata": {},
   "outputs": [],
   "source": [
    "def chunk(list, size):\n",
    "    return [list[i:i+size] for i in range(0,len(list), size)]"
   ]
  },
  {
   "cell_type": "markdown",
   "metadata": {},
   "source": [
    "## Compact\n",
    "This method removes falsy values (False, None, 0 and “”) from a list by using filter()."
   ]
  },
  {
   "cell_type": "code",
   "execution_count": null,
   "metadata": {},
   "outputs": [],
   "source": [
    "def compact(lst):\n",
    "    return list(filter(bool, lst))\n",
    "  \n",
    "  \n",
    "compact([0, 1, False, 2, '', 3, 'a', 's', 34]) # [ 1, 2, 3, 'a', 's', 34 ]"
   ]
  },
  {
   "cell_type": "markdown",
   "metadata": {},
   "source": [
    "## Count by\n",
    "This snippet can be used to transpose a 2D array."
   ]
  },
  {
   "cell_type": "code",
   "execution_count": null,
   "metadata": {},
   "outputs": [],
   "source": [
    "array = [['a', 'b'], ['c', 'd'], ['e', 'f']]\n",
    "transposed = zip(*array)\n",
    "print(transposed) # [('a', 'c', 'e'), ('b', 'd', 'f')]"
   ]
  },
  {
   "cell_type": "markdown",
   "metadata": {},
   "source": [
    "## Chained comparison\n",
    "You can do multiple comparisons with all kinds of operators in a single line."
   ]
  },
  {
   "cell_type": "code",
   "execution_count": null,
   "metadata": {},
   "outputs": [],
   "source": [
    "a = 3\n",
    "print( 2 < a < 8) # True\n",
    "print(1 == a < 2) # False"
   ]
  },
  {
   "cell_type": "markdown",
   "metadata": {},
   "source": [
    "## Comma-separated\n",
    "This snippet can be used to turn a list of strings into a single string with each element from the list separated by commas."
   ]
  },
  {
   "cell_type": "code",
   "execution_count": null,
   "metadata": {},
   "outputs": [],
   "source": [
    "hobbies = [\"basketball\", \"football\", \"swimming\"]\n",
    "\n",
    "print(\"My hobbies are:\") # My hobbies are:\n",
    "print(\", \".join(hobbies)) # basketball, football, swimming"
   ]
  },
  {
   "cell_type": "markdown",
   "metadata": {},
   "source": [
    "## Get vowels\n",
    "This method gets vowels (‘a’, ‘e’, ‘i’, ‘o’, ‘u’) found in a string."
   ]
  },
  {
   "cell_type": "code",
   "execution_count": null,
   "metadata": {},
   "outputs": [],
   "source": [
    "def get_vowels(string):\n",
    "    return [each for each in string if each in 'aeiou'] \n",
    "\n",
    "\n",
    "get_vowels('foobar') # ['o', 'o', 'a']\n",
    "get_vowels('gym') # []"
   ]
  },
  {
   "cell_type": "markdown",
   "metadata": {},
   "source": [
    "## Decapitalize\n",
    "This method can be used to turn the first letter of the given string into lowercase."
   ]
  },
  {
   "cell_type": "code",
   "execution_count": null,
   "metadata": {},
   "outputs": [],
   "source": [
    "def decapitalize(str):\n",
    "    return str[:1].lower() + str[1:]\n",
    "  \n",
    "  \n",
    "decapitalize('FooBar') # 'fooBar'\n",
    "decapitalize('FooBar') # 'fooBar'"
   ]
  },
  {
   "cell_type": "markdown",
   "metadata": {},
   "source": [
    "## Flatten\n",
    "The following methods flatten a potentially deep list using recursion."
   ]
  },
  {
   "cell_type": "code",
   "execution_count": null,
   "metadata": {},
   "outputs": [],
   "source": [
    "def spread(arg):\n",
    "    ret = []\n",
    "    for i in arg:\n",
    "        if isinstance(i, list):\n",
    "            ret.extend(i)\n",
    "        else:\n",
    "            ret.append(i)\n",
    "    return ret\n",
    "\n",
    "def deep_flatten(xs):\n",
    "    flat_list = []\n",
    "    [flat_list.extend(deep_flatten(x)) for x in xs] if isinstance(xs, list) else flat_list.append(xs)\n",
    "    return flat_list\n",
    "\n",
    "\n",
    "deep_flatten([1, [2], [[3], 4], 5]) # [1,2,3,4,5]"
   ]
  },
  {
   "cell_type": "markdown",
   "metadata": {},
   "source": [
    "## Lambda Function\n",
    "\n",
    "The purpose of a lambda function is to perform some kind of simple expression or operation without the need for fully defining a function.<br>\n",
    "A lambda function can take any number of arguments, but must always have only one expression"
   ]
  },
  {
   "cell_type": "code",
   "execution_count": null,
   "metadata": {},
   "outputs": [],
   "source": [
    "x = lambda a : a*3 + 3\n",
    "print(x(3)) # prints '12'"
   ]
  },
  {
   "cell_type": "markdown",
   "metadata": {},
   "source": [
    "## Difference\n",
    "This method finds the difference between two iterables by keeping only the values that are in the first one."
   ]
  },
  {
   "cell_type": "code",
   "execution_count": null,
   "metadata": {},
   "outputs": [],
   "source": [
    "def difference(a, b):\n",
    "    set_a = set(a)\n",
    "    set_b = set(b)\n",
    "    comparison = set_a.difference(set_b)\n",
    "    return list(comparison)\n",
    "\n",
    "\n",
    "difference([1,2,3], [1,2,4]) # [3]"
   ]
  },
  {
   "cell_type": "markdown",
   "metadata": {},
   "source": [
    "## Difference by\n",
    "The following method returns the difference between two lists after applying a given function to each element of both lists."
   ]
  },
  {
   "cell_type": "code",
   "execution_count": null,
   "metadata": {},
   "outputs": [],
   "source": [
    "def difference_by(a, b, fn):\n",
    "    b = set(map(fn, b))\n",
    "    return [item for item in a if fn(item) not in b]\n",
    "\n",
    "\n",
    "from math import floor\n",
    "difference_by([2.1, 1.2], [2.3, 3.4], floor) # [1.2]\n",
    "difference_by([{ 'x': 2 }, { 'x': 1 }], [{ 'x': 1 }], lambda v : v['x']) # [ { x: 2 } ]"
   ]
  },
  {
   "cell_type": "markdown",
   "metadata": {},
   "source": [
    "## Chained function call\n",
    "You can call multiple functions inside a single line."
   ]
  },
  {
   "cell_type": "code",
   "execution_count": null,
   "metadata": {},
   "outputs": [],
   "source": [
    "def add(a, b):\n",
    "    return a + b\n",
    "\n",
    "def subtract(a, b):\n",
    "    return a - b\n",
    "\n",
    "a, b = 4, 5\n",
    "print((subtract if a > b else add)(a, b)) # 9   "
   ]
  },
  {
   "cell_type": "markdown",
   "metadata": {},
   "source": [
    "## Has duplicates\n",
    "The following method checks whether a list has duplicate values by using the fact that set() contains only unique elements."
   ]
  },
  {
   "cell_type": "code",
   "execution_count": null,
   "metadata": {},
   "outputs": [],
   "source": [
    "def has_duplicates(lst):\n",
    "    return len(lst) != len(set(lst))\n",
    "    \n",
    "    \n",
    "x = [1,2,3,4,5,5]\n",
    "y = [1,2,3,4,5]\n",
    "has_duplicates(x) # True\n",
    "has_duplicates(y) # False"
   ]
  },
  {
   "cell_type": "markdown",
   "metadata": {},
   "source": [
    "## Merge two dictionaries\n",
    "The following method can be used to merge two dictionaries."
   ]
  },
  {
   "cell_type": "code",
   "execution_count": null,
   "metadata": {},
   "outputs": [],
   "source": [
    "def merge_dictionaries(a, b)\n",
    "   return {**a, **b}\n",
    "\n",
    "\n",
    "a = { 'x': 1, 'y': 2}\n",
    "b = { 'y': 3, 'z': 4}\n",
    "print(merge_dictionaries(a, b)) # {'y': 3, 'x': 1, 'z': 4}"
   ]
  },
  {
   "cell_type": "markdown",
   "metadata": {},
   "source": [
    "## Convert two lists into a dictionary\n",
    "The following method can be used to convert two lists into a dictionary."
   ]
  },
  {
   "cell_type": "code",
   "execution_count": null,
   "metadata": {},
   "outputs": [],
   "source": [
    "def to_dictionary(keys, values):\n",
    "    return dict(zip(keys, values))\n",
    "    \n",
    "\n",
    "keys = [\"a\", \"b\", \"c\"]    \n",
    "values = [2, 3, 4]\n",
    "print(to_dictionary(keys, values)) # {'a': 2, 'c': 4, 'b': 3}"
   ]
  },
  {
   "cell_type": "markdown",
   "metadata": {},
   "source": [
    "## Use enumerate\n",
    "This snippet shows that you can use enumerate to get both the values and the indexes of lists."
   ]
  },
  {
   "cell_type": "code",
   "execution_count": null,
   "metadata": {},
   "outputs": [],
   "source": [
    "list = [\"a\", \"b\", \"c\", \"d\"]\n",
    "for index, element in enumerate(list): \n",
    "    print(\"Value\", element, \"Index \", index, )\n",
    "\n",
    "# ('Value', 'a', 'Index ', 0)\n",
    "# ('Value', 'b', 'Index ', 1)\n",
    "#('Value', 'c', 'Index ', 2)\n",
    "# ('Value', 'd', 'Index ', 3)    "
   ]
  },
  {
   "cell_type": "markdown",
   "metadata": {},
   "source": [
    "## Time spent\n",
    "This snippet can be used to calculate the time it takes to execute a particular code."
   ]
  },
  {
   "cell_type": "code",
   "execution_count": null,
   "metadata": {},
   "outputs": [],
   "source": [
    "import time\n",
    "\n",
    "start_time = time.time()\n",
    "\n",
    "a = 1\n",
    "b = 2\n",
    "c = a + b\n",
    "print(c) #3\n",
    "\n",
    "end_time = time.time()\n",
    "total_time = end_time - start_time\n",
    "print(\"Time: \", total_time)\n",
    "\n",
    "# ('Time: ', 1.1205673217773438e-05)"
   ]
  },
  {
   "cell_type": "markdown",
   "metadata": {},
   "source": [
    "## Try else\n",
    "You can have an else clause as part of a try/except block, which is executed if no exception is thrown."
   ]
  },
  {
   "cell_type": "code",
   "execution_count": null,
   "metadata": {},
   "outputs": [],
   "source": [
    "try:\n",
    "    2*3\n",
    "except TypeError:\n",
    "    print(\"An exception was raised\")\n",
    "else:\n",
    "    print(\"Thank God, no exceptions were raised.\")\n",
    "\n",
    "#Thank God, no exceptions were raised."
   ]
  },
  {
   "cell_type": "markdown",
   "metadata": {},
   "source": [
    "## Most frequent\n",
    "This method returns the most frequent element that appears in a list."
   ]
  },
  {
   "cell_type": "code",
   "execution_count": null,
   "metadata": {},
   "outputs": [],
   "source": [
    "def most_frequent(list):\n",
    "    return max(set(list), key = list.count)\n",
    "  \n",
    "\n",
    "numbers = [1,2,1,2,3,2,1,4,2]\n",
    "most_frequent(numbers) "
   ]
  },
  {
   "cell_type": "markdown",
   "metadata": {},
   "source": [
    "## Palindrome\n",
    "This method checks whether a given string is a palindrome."
   ]
  },
  {
   "cell_type": "code",
   "execution_count": null,
   "metadata": {},
   "outputs": [],
   "source": [
    "def palindrome(a):\n",
    "    return a == a[::-1]\n",
    "\n",
    "\n",
    "palindrome('mom') # True"
   ]
  },
  {
   "cell_type": "markdown",
   "metadata": {},
   "source": [
    "## Calculator without if-else\n",
    "The following snippet shows how you can write a simple calculator without the need to use if-else conditions."
   ]
  },
  {
   "cell_type": "code",
   "execution_count": null,
   "metadata": {},
   "outputs": [],
   "source": [
    "import operator\n",
    "action = {\n",
    "    \"+\": operator.add,\n",
    "    \"-\": operator.sub,\n",
    "    \"/\": operator.truediv,\n",
    "    \"*\": operator.mul,\n",
    "    \"**\": pow\n",
    "}\n",
    "print(action['-'](50, 25)) # 25"
   ]
  },
  {
   "cell_type": "markdown",
   "metadata": {},
   "source": [
    "## Shuffle\n",
    "This snippet can be used to randomize the order of the elements in a list. Note that shuffle works in place, and returns None."
   ]
  },
  {
   "cell_type": "code",
   "execution_count": null,
   "metadata": {},
   "outputs": [],
   "source": [
    "from random import shuffle\n",
    "\n",
    "foo = [1, 2, 3, 4]\n",
    "shuffle(foo) \n",
    "print(foo) # [1, 4, 3, 2] , foo = [1, 2, 3, 4]"
   ]
  },
  {
   "cell_type": "markdown",
   "metadata": {},
   "source": [
    "## Spread\n",
    "This method flattens a list similarly like [].concat(…arr) in JavaScript."
   ]
  },
  {
   "cell_type": "code",
   "execution_count": null,
   "metadata": {},
   "outputs": [],
   "source": [
    "def spread(arg):\n",
    "    ret = []\n",
    "    for i in arg:\n",
    "        if isinstance(i, list):\n",
    "            ret.extend(i)\n",
    "        else:\n",
    "            ret.append(i)\n",
    "    return ret\n",
    "\n",
    "\n",
    "spread([1,2,3,[4,5,6],[7],8,9]) # [1,2,3,4,5,6,7,8,9]"
   ]
  },
  {
   "cell_type": "markdown",
   "metadata": {},
   "source": [
    "## Swap values\n",
    "A really quick way for swapping two variables without having to use an additional one."
   ]
  },
  {
   "cell_type": "code",
   "execution_count": null,
   "metadata": {},
   "outputs": [],
   "source": [
    "a, b = -1, 14\n",
    "a, b = b, a\n",
    "\n",
    "print(a) # 14\n",
    "print(b) # -1"
   ]
  },
  {
   "cell_type": "markdown",
   "metadata": {},
   "source": [
    "## Get default value for missing keys\n",
    "This snippet shows how you can get a default value in case a key you are looking for is not included in the dictionary."
   ]
  },
  {
   "cell_type": "code",
   "execution_count": null,
   "metadata": {},
   "outputs": [],
   "source": [
    "d = {'a': 1, 'b': 2}\n",
    "\n",
    "print(d.get('c', 3)) # 3"
   ]
  },
  {
   "cell_type": "markdown",
   "metadata": {},
   "source": [
    "## Converting int64 to DateTime in Pandas"
   ]
  },
  {
   "cell_type": "code",
   "execution_count": null,
   "metadata": {},
   "outputs": [],
   "source": [
    "# Date is in the format - 20030219\n",
    "# parse_dates takes care of this\n",
    "\n",
    "df = pd.read_csv('abcnews-date-text.csv',\n",
    "                 parse_dates=['publish_date'], \n",
    "                 error_bad_lines=False)"
   ]
  },
  {
   "cell_type": "markdown",
   "metadata": {},
   "source": [
    "## Converting int64 to DateTime in Pandas\n",
    "This snippet converts int64 data type to date "
   ]
  },
  {
   "cell_type": "code",
   "execution_count": null,
   "metadata": {},
   "outputs": [],
   "source": [
    "date = pd.DataFrame({'old_date': Historical_Data.Date})\n",
    "date['new_date'] = pd.to_datetime(\n",
    "    date['old_date'].astype(str), format='%Y%m%d')\n",
    "print(date)\n",
    "\n",
    "# Creating DataFrame with DateTime created and adding it to original DataFrame\n",
    "Historical_Data.Date = pd.to_datetime(date['old_date'].astype(str), format='%Y%m%d')"
   ]
  },
  {
   "cell_type": "markdown",
   "metadata": {},
   "source": [
    "## Converting object to String in Pandas\n",
    "\n",
    "Strings data types have variable length, it is by default stored as object dtype.\n",
    "\n",
    "This code snipped converts object data type to String and set the default length to the max len it encounters"
   ]
  },
  {
   "cell_type": "code",
   "execution_count": null,
   "metadata": {},
   "outputs": [],
   "source": [
    "df['column'] = df['column'].astype('|S')"
   ]
  },
  {
   "cell_type": "markdown",
   "metadata": {},
   "source": [
    "## Generating DataFrame with Random Number\n",
    "\n",
    "This code snippet can generate random number and create a DataFrame from it"
   ]
  },
  {
   "cell_type": "code",
   "execution_count": null,
   "metadata": {},
   "outputs": [],
   "source": [
    "data = pd.DataFrame(np.random.randint(low=0, high=2, size=(5000, 4)), columns=['A', 'B', 'C', 'D'])"
   ]
  },
  {
   "cell_type": "markdown",
   "metadata": {},
   "source": [
    "## Creating DataFrame\n",
    "\n",
    "This code snippet can be used to create DataFrame from list"
   ]
  },
  {
   "cell_type": "code",
   "execution_count": null,
   "metadata": {},
   "outputs": [],
   "source": [
    "sample_df = pd.DataFrame(sample_list.values, columns=['Column 1', 'Column 2'], index = ['0', '1'])"
   ]
  },
  {
   "cell_type": "markdown",
   "metadata": {},
   "source": [
    "## From Dictionary to DataFrame\n",
    "\n",
    "This code snippet is using List Comprehension method"
   ]
  },
  {
   "cell_type": "code",
   "execution_count": null,
   "metadata": {},
   "outputs": [],
   "source": [
    "data = {'Query1': [[key for key in query1.keys()][0], [value for value in query1.values()][0]], \n",
    "        'Query2': [[key for key in query2.keys()][0], [value for value in query2.values()][0]], \n",
    "        'Query3': [[key for key in query3.keys()][0], [value for value in query3.values()][0]]\n",
    "       }\n",
    "result = pd.DataFrame(data) \n",
    "result.to_csv('output.csv', index=False)\n",
    "result"
   ]
  },
  {
   "cell_type": "markdown",
   "metadata": {},
   "source": [
    "## Function for mapping entire dataframe\n",
    "\n",
    "This code snippet iterates over all the columns in the DataFrame and performs the mapping"
   ]
  },
  {
   "cell_type": "code",
   "execution_count": null,
   "metadata": {},
   "outputs": [],
   "source": [
    "def mapping(dtf):\n",
    "    for i in dtf.columns:\n",
    "        dtf[i] = dtf[i].map({'yes':1, 'no':0})\n",
    "    return dtf\n",
    "\n",
    "train_map = mapping(train)"
   ]
  },
  {
   "cell_type": "markdown",
   "metadata": {},
   "source": [
    "## Dictionary Slicing\n",
    "\n",
    "This code snippet shows how to access elements within the dictionary"
   ]
  },
  {
   "cell_type": "code",
   "execution_count": null,
   "metadata": {},
   "outputs": [],
   "source": [
    "d = {'tub': 0, 'xray': 1, 'bronc': 1}\n",
    "\n",
    "a1 = d['tub']\n",
    "a2 = d['xray']\n",
    "a3 = d['bronc']\n",
    "a1 \n",
    "a2\n",
    "a3\n",
    "print(d.items())\n",
    "print(d.keys())\n",
    "print(d.values())"
   ]
  },
  {
   "cell_type": "markdown",
   "metadata": {},
   "source": [
    "## Get Dictionary Keys as a List\n",
    "\n",
    "This code snippet gets the dictionary keys as a list"
   ]
  },
  {
   "cell_type": "code",
   "execution_count": null,
   "metadata": {},
   "outputs": [],
   "source": [
    "def getList(dict): \n",
    "    return dict.keys() \n",
    "      \n",
    "d = {'tub': 0, 'xray': 1, 'bronc': 1}\n",
    "print(getList(d)) "
   ]
  },
  {
   "cell_type": "markdown",
   "metadata": {},
   "source": [
    "## Mapping Categorical Data in pandas\n",
    "\n",
    "If we have our data in Series or Data Frames, we can convert these categories to numbers using pandas Series’ astype method and specify ‘categorical’."
   ]
  },
  {
   "cell_type": "code",
   "execution_count": null,
   "metadata": {},
   "outputs": [],
   "source": [
    "df = pd.DataFrame({'vertebrates': ['Bird', 'Bird', 'Mammal', 'Fish', 'Amphibian', 'Reptile', 'Mammal']})\n",
    "\n",
    "df.vertebrates.astype(\"category\").cat.codes"
   ]
  },
  {
   "cell_type": "markdown",
   "metadata": {},
   "source": [
    "#### ~~ Created by Pushkar Ravi on 20th September 2019"
   ]
  },
  {
   "cell_type": "markdown",
   "metadata": {},
   "source": [
    "Reference URL: https://towardsdatascience.com/30-helpful-python-snippets-that-you-can-learn-in-30-seconds-or-less-69bb49204172"
   ]
  }
 ],
 "metadata": {
  "kernelspec": {
   "display_name": "Python 3",
   "language": "python",
   "name": "python3"
  },
  "language_info": {
   "codemirror_mode": {
    "name": "ipython",
    "version": 3
   },
   "file_extension": ".py",
   "mimetype": "text/x-python",
   "name": "python",
   "nbconvert_exporter": "python",
   "pygments_lexer": "ipython3",
   "version": "3.7.6"
  },
  "toc": {
   "base_numbering": 1,
   "nav_menu": {},
   "number_sections": true,
   "sideBar": true,
   "skip_h1_title": false,
   "title_cell": "Table of Contents",
   "title_sidebar": "Contents",
   "toc_cell": false,
   "toc_position": {},
   "toc_section_display": true,
   "toc_window_display": false
  },
  "varInspector": {
   "cols": {
    "lenName": 16,
    "lenType": 16,
    "lenVar": 40
   },
   "kernels_config": {
    "python": {
     "delete_cmd_postfix": "",
     "delete_cmd_prefix": "del ",
     "library": "var_list.py",
     "varRefreshCmd": "print(var_dic_list())"
    },
    "r": {
     "delete_cmd_postfix": ") ",
     "delete_cmd_prefix": "rm(",
     "library": "var_list.r",
     "varRefreshCmd": "cat(var_dic_list()) "
    }
   },
   "types_to_exclude": [
    "module",
    "function",
    "builtin_function_or_method",
    "instance",
    "_Feature"
   ],
   "window_display": false
  }
 },
 "nbformat": 4,
 "nbformat_minor": 4
}
