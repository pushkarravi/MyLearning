{
 "cells": [
  {
   "cell_type": "markdown",
   "metadata": {},
   "source": [
    "## Productive Jupyter Notebook Hacks, Tips and Tricks!\n",
    "\n",
    "1. Interactive Shell\n",
    "2. Multicursor in Jupyter Notebook\n",
    "3. %who – List of Variables\n",
    "4. %history – List of commands\n",
    "5. Change cell width\n",
    "6. Share notebooks via nbviewer\n",
    "7. Nbconvert to present Jupyter notebook as slides\n",
    "8. %prun – Run Python Profiler\n",
    "9. %%heat – Heatmap over Code\n",
    "\n",
    "---\n",
    "\n",
    "**Ref URLs**\n",
    "[Analytics Vidhya](https://www.analyticsvidhya.com/blog/2020/04/10-productive-jupyter-notebook-hacks-tips-tricks/?utm_source=feed&utm_medium=feed-articles&utm_campaign=feed)"
   ]
  },
  {
   "cell_type": "markdown",
   "metadata": {},
   "source": [
    "# ----------------------------------------------------------------------------------------"
   ]
  },
  {
   "cell_type": "markdown",
   "metadata": {
    "ExecuteTime": {
     "end_time": "2020-04-19T15:15:12.575995Z",
     "start_time": "2020-04-19T15:15:12.567525Z"
    }
   },
   "source": [
    "### 1. Interactive Shell\n",
    "- Print multiple statements within the same cell"
   ]
  },
  {
   "cell_type": "code",
   "execution_count": 2,
   "metadata": {
    "ExecuteTime": {
     "end_time": "2020-04-19T15:18:37.091224Z",
     "start_time": "2020-04-19T15:18:37.088032Z"
    }
   },
   "outputs": [],
   "source": [
    "from IPython.core.interactiveshell import InteractiveShell\n",
    "InteractiveShell.ast_node_interactivity = \"all\""
   ]
  },
  {
   "cell_type": "markdown",
   "metadata": {},
   "source": [
    "---"
   ]
  },
  {
   "cell_type": "markdown",
   "metadata": {},
   "source": [
    "### 2. Multicursor in Jupyter Notebook\n",
    "- If you made the same mistake at multiple places?\n",
    "- Correct them in one go using multicursor. \n",
    "- All you have to do is – CTRL + Click at the desired points!"
   ]
  },
  {
   "cell_type": "markdown",
   "metadata": {},
   "source": [
    "---"
   ]
  },
  {
   "cell_type": "markdown",
   "metadata": {},
   "source": [
    "### 3. %who – List of Variables\n",
    "- `%who` is a useful magic command that returns the variables present in the global space along with its type\n",
    "- You can also pass arguments to get a list of specific variables."
   ]
  },
  {
   "cell_type": "markdown",
   "metadata": {},
   "source": [
    "---"
   ]
  },
  {
   "cell_type": "markdown",
   "metadata": {},
   "source": [
    "### 4. %history – List of commands\n",
    "- It provides a list of all the commands given in the notebook"
   ]
  },
  {
   "cell_type": "code",
   "execution_count": null,
   "metadata": {},
   "outputs": [],
   "source": [
    "# List of all commands\n",
    "%history"
   ]
  },
  {
   "cell_type": "code",
   "execution_count": 5,
   "metadata": {
    "ExecuteTime": {
     "end_time": "2020-04-19T15:25:55.950771Z",
     "start_time": "2020-04-19T15:25:55.940773Z"
    }
   },
   "outputs": [
    {
     "name": "stdout",
     "output_type": "stream",
     "text": [
      "   1: 1. Interactive Shell\n",
      "   2:\n",
      "from IPython.core.interactiveshell import InteractiveShell\n",
      "InteractiveShell.ast_node_interactivity = \"all\"\n",
      "   3:\n",
      "from IPython.display import HTML\n",
      "HTML('<iframe width=\"560\" height=\"315\" src=\"https://www.youtube.com/watch?time_continue=19&v=q_FturFMdj0&feature=emb_logo;controls=0&amp;showinfo=0\" frameborder=\"0\" allowfullscreen></iframe>')\n",
      "   4:\n",
      "from IPython.display.IFrame import HTML\n",
      "HTML('<iframe width=\"560\" height=\"315\" src=\"https://www.youtube.com/watch?time_continue=19&v=q_FturFMdj0&feature=emb_logo;controls=0&amp;showinfo=0\" frameborder=\"0\" allowfullscreen></iframe>')\n",
      "   5:\n",
      "# Prints Line Number for each command\n",
      "%history -n\n"
     ]
    }
   ],
   "source": [
    "# Prints Line Number for each command\n",
    "%history -n"
   ]
  },
  {
   "cell_type": "code",
   "execution_count": 6,
   "metadata": {
    "ExecuteTime": {
     "end_time": "2020-04-19T15:26:32.500612Z",
     "start_time": "2020-04-19T15:26:32.495536Z"
    }
   },
   "outputs": [
    {
     "name": "stdout",
     "output_type": "stream",
     "text": [
      "1. Interactive Shell\n",
      "from IPython.core.interactiveshell import InteractiveShell\n",
      "InteractiveShell.ast_node_interactivity = \"all\"\n",
      "from IPython.display import HTML\n",
      "HTML('<iframe width=\"560\" height=\"315\" src=\"https://www.youtube.com/watch?time_continue=19&v=q_FturFMdj0&feature=emb_logo;controls=0&amp;showinfo=0\" frameborder=\"0\" allowfullscreen></iframe>')\n",
      "<IPython.core.display.HTML object>\n",
      "from IPython.display.IFrame import HTML\n",
      "HTML('<iframe width=\"560\" height=\"315\" src=\"https://www.youtube.com/watch?time_continue=19&v=q_FturFMdj0&feature=emb_logo;controls=0&amp;showinfo=0\" frameborder=\"0\" allowfullscreen></iframe>')\n",
      "# Prints Line Number for each command\n",
      "%history -n\n",
      "# Prints commands and outputs\n",
      "%history -o\n"
     ]
    }
   ],
   "source": [
    "# Prints commands and outputs\n",
    "%history -o"
   ]
  },
  {
   "cell_type": "code",
   "execution_count": 7,
   "metadata": {
    "ExecuteTime": {
     "end_time": "2020-04-19T15:27:53.350795Z",
     "start_time": "2020-04-19T15:27:53.337268Z"
    }
   },
   "outputs": [
    {
     "name": "stdout",
     "output_type": "stream",
     "text": [
      "1. Interactive Shell\n",
      "from IPython.core.interactiveshell import InteractiveShell\n",
      "InteractiveShell.ast_node_interactivity = \"all\"\n",
      "from IPython.display import HTML\n",
      "HTML('<iframe width=\"560\" height=\"315\" src=\"https://www.youtube.com/watch?time_continue=19&v=q_FturFMdj0&feature=emb_logo;controls=0&amp;showinfo=0\" frameborder=\"0\" allowfullscreen></iframe>')\n",
      "from IPython.display.IFrame import HTML\n",
      "HTML('<iframe width=\"560\" height=\"315\" src=\"https://www.youtube.com/watch?time_continue=19&v=q_FturFMdj0&feature=emb_logo;controls=0&amp;showinfo=0\" frameborder=\"0\" allowfullscreen></iframe>')\n",
      "# Prints Line Number for each command\n",
      "get_ipython().run_line_magic('history', '-n')\n",
      "# Prints commands and outputs\n",
      "get_ipython().run_line_magic('history', '-o')\n",
      "# Prints translated history - converts it into valid Python Command before execution\n",
      "get_ipython().run_line_magic('history', '-t')\n"
     ]
    }
   ],
   "source": [
    "# Prints translated history - converts it into valid Python Command before execution\n",
    "# eg - %history --> get_ipython().run_line_magic('history', '')\n",
    "%history -n -t"
   ]
  },
  {
   "cell_type": "markdown",
   "metadata": {},
   "source": [
    "---"
   ]
  },
  {
   "cell_type": "markdown",
   "metadata": {},
   "source": [
    "### 6. Change Cell Width"
   ]
  },
  {
   "cell_type": "markdown",
   "metadata": {},
   "source": [
    "1. Install jupyter-themes:\n",
    "\n",
    ">using anacondaconda install -c conda-forge jupyterthemes\n",
    "\n",
    ">using pipconda install -c pip install jupyterthemes\n",
    "\n",
    "2. Change the theme, cell width, cell height \n",
    "\n",
    ">jt -t chesterish -cellw 100% lineh 170"
   ]
  },
  {
   "cell_type": "markdown",
   "metadata": {},
   "source": [
    "---"
   ]
  },
  {
   "cell_type": "markdown",
   "metadata": {},
   "source": [
    "### 7. Share notebooks via Jupyter nbviewer\n",
    "\n",
    "- Nbviewer is a web application that lets us enter the URL of a Jupyter Notebook file, renders that notebook as a static HTML web page, and gives us a stable link to that page which we can share with others.\n",
    "\n",
    "- You can also use `Binder` to open the static web page in an executable environment. \n",
    "\n",
    "- **Pro-tip** – You can paste the GitHub links mentioned in this article into binder and you’ll have all the codes at your disposal!"
   ]
  },
  {
   "cell_type": "markdown",
   "metadata": {},
   "source": [
    "---"
   ]
  },
  {
   "cell_type": "markdown",
   "metadata": {},
   "source": [
    "### 8. Nbconvert to Present your Notebook as Slides\n",
    "- **Nbconvert** - This is used for converting Jupyter’s ipynb file into another static format including HTML, LaTeX, PDF and more. \n",
    "- It can be a really handy tool to straightaway convert your findings into a presentation format.\n",
    "\n",
    "In this example, we’ll convert a small notebook into the form of slides. Nbconvert is the tool that powers the Nbviewer mentioned in the previous hack.\n",
    "\n",
    "Here’s how to do it:\n",
    "\n",
    "1. Open a Jupyter notebook\n",
    "2. In the toolbar, go to View>>Slideshow\n",
    "3. Now each cell will have a “Slide Type” in the top right corner. Select the type of slide depending on your content\n",
    "4. Go to command prompt/terminal and type the following command –  “jupyter nbconvert [file_name] –to slides”\n",
    "5. Go to the folder where you are running the code and you’ll find, “[file_name.html]”\n",
    "6. Open the file and use the keys to change the slides"
   ]
  },
  {
   "cell_type": "markdown",
   "metadata": {},
   "source": [
    "---"
   ]
  },
  {
   "cell_type": "markdown",
   "metadata": {},
   "source": [
    "### 9. %prun – Run Python Profiler\n",
    "Jupyter notebook provides a simple wrapper to run Python Profiler – %prun. \n",
    "- A profiler helps you analyze your code so that you can optimize the pain points. \n",
    "- It provides you with the number of function calls and the execution time. \n",
    "\n",
    "Other information provided is:\n",
    "1. ncalls – number of calls\n",
    "2. tottime – The total time spent in the given function (excluding time made in calls to sub-functions)\n",
    "3. percall – the quotient of tottime divided by ncalls\n",
    "4. cumtime –  the total time spent in this and all subfunctions (from invocation till exit)\n",
    "5. percall – the quotient of cumtime divided by primitive calls"
   ]
  },
  {
   "cell_type": "code",
   "execution_count": 8,
   "metadata": {
    "ExecuteTime": {
     "end_time": "2020-04-19T15:40:28.208356Z",
     "start_time": "2020-04-19T15:40:24.621625Z"
    }
   },
   "outputs": [],
   "source": [
    "# import pandas\n",
    "import pandas as pd"
   ]
  },
  {
   "cell_type": "code",
   "execution_count": null,
   "metadata": {},
   "outputs": [],
   "source": [
    "#Import dataset\n",
    "loan = pd.read_csv('../Data/loan_train.csv', index_col = 'Loan_ID')"
   ]
  },
  {
   "cell_type": "code",
   "execution_count": null,
   "metadata": {},
   "outputs": [],
   "source": [
    "# Define function\n",
    "def missing(x):\n",
    "    return sum(x.isnull())"
   ]
  },
  {
   "cell_type": "code",
   "execution_count": null,
   "metadata": {},
   "outputs": [],
   "source": [
    "# Apply per column\n",
    "\n",
    "print('Missing values per column')\n",
    "%prun loan.apply(missing, axis = 0).head()"
   ]
  },
  {
   "cell_type": "code",
   "execution_count": null,
   "metadata": {},
   "outputs": [],
   "source": [
    "# Apply per row\n",
    "print('Missing values per row')\n",
    "%prun loan.apply(missing, axis = 1).head()"
   ]
  },
  {
   "cell_type": "markdown",
   "metadata": {},
   "source": [
    "---"
   ]
  },
  {
   "cell_type": "markdown",
   "metadata": {},
   "source": [
    "### 10. %%heat – Heatmap over Code\n",
    "Visualize the profiling of your code. \n",
    "- By using `%%heat`, you’ll get an output of your code in the form of a heatmap. \n",
    "- This will help you recognize the most time-consuming statements and help you optimize it.\n",
    "\n",
    "Let’s checkout the steps in your Jupyter notebook:\n",
    "\n",
    "1. !pip install py-heat-magic\n",
    "2. To load the heat as a magic function in your notebook – %load_ext heat\n",
    "3. Use %%heat in your notebook cell for which you want to get the heatmap"
   ]
  },
  {
   "cell_type": "code",
   "execution_count": 9,
   "metadata": {
    "ExecuteTime": {
     "end_time": "2020-04-19T15:43:43.395671Z",
     "start_time": "2020-04-19T15:43:41.481534Z"
    }
   },
   "outputs": [],
   "source": [
    "# To load heat as magic function in your notebook\n",
    "%load_ext heat"
   ]
  },
  {
   "cell_type": "code",
   "execution_count": 10,
   "metadata": {
    "ExecuteTime": {
     "end_time": "2020-04-19T15:43:46.763917Z",
     "start_time": "2020-04-19T15:43:44.259103Z"
    }
   },
   "outputs": [
    {
     "data": {
      "image/png": "[encoded data removed]",
      "text/plain": [
       "<Figure size 603x336 with 2 Axes>"
      ]
     },
     "metadata": {
      "needs_background": "light"
     },
     "output_type": "display_data"
    }
   ],
   "source": [
    "%%heat\n",
    "\n",
    "import pandas as pd\n",
    "import random\n",
    "import math\n",
    "\n",
    "df = pd.DataFrame({\n",
    "    'A' : [random.randint(15,20) for i in range(1,1000) ],\n",
    "    'B' : [random.randint(10,30) for i in range(1,1000) ]\n",
    "})\n",
    "\n",
    "def func(x):\n",
    "    return math.sin(x.A**2) + math.sin(x.B**2) + math.tan(x.A**2)\n",
    "\n",
    "res = df.apply(func, axis=1)"
   ]
  }
 ],
 "metadata": {
  "kernelspec": {
   "display_name": "Python 3",
   "language": "python",
   "name": "python3"
  },
  "language_info": {
   "codemirror_mode": {
    "name": "ipython",
    "version": 3
   },
   "file_extension": ".py",
   "mimetype": "text/x-python",
   "name": "python",
   "nbconvert_exporter": "python",
   "pygments_lexer": "ipython3",
   "version": "3.7.6"
  },
  "varInspector": {
   "cols": {
    "lenName": 16,
    "lenType": 16,
    "lenVar": 40
   },
   "kernels_config": {
    "python": {
     "delete_cmd_postfix": "",
     "delete_cmd_prefix": "del ",
     "library": "var_list.py",
     "varRefreshCmd": "print(var_dic_list())"
    },
    "r": {
     "delete_cmd_postfix": ") ",
     "delete_cmd_prefix": "rm(",
     "library": "var_list.r",
     "varRefreshCmd": "cat(var_dic_list()) "
    }
   },
   "types_to_exclude": [
    "module",
    "function",
    "builtin_function_or_method",
    "instance",
    "_Feature"
   ],
   "window_display": false
  }
 },
 "nbformat": 4,
 "nbformat_minor": 4
}
